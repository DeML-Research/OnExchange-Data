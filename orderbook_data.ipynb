{
 "cells": [
  {
   "cell_type": "markdown",
   "metadata": {},
   "source": [
    "# Definitions"
   ]
  },
  {
   "cell_type": "markdown",
   "metadata": {},
   "source": [
    "**Orderbook**: A registry that has “Levels” and each of those has a price and a volume of limit orders as posted by market participants, it has two “Sides”, the Ask side is where the limit orders for sell (ask) are placed, and the Bid side where the limit orders for buy (offer) are placed. In both sides, the limit orders are first ordered in price and for each price ordered in time of arrival, according to the “Matching Engine” implemented in the servers of the exchange.\n",
    "Matching Engine: An algorithm that defines the ordering of limit orders, usually is a “FIFO” system, First In First Out, which means, two or more limit orders will be added to a “Time-based queue” and so the first order to arrive is the first one that is going to be matched against other contrary order in the book, or, when a market order arrives to the exchange."
   ]
  },
  {
   "cell_type": "markdown",
   "metadata": {},
   "source": [
    "\n",
    "- LOB: Limit Order Book, the whole OrderBook as provided by the exchange.\n",
    "- TOB: Top Of the Book, it refers to use the price and volume only of the best ask and best bid for any calculation.\n",
    "- HOB: Head Of the Book, a variation of the TOB, where a N number of levels are used for the calculations."
   ]
  },
  {
   "cell_type": "markdown",
   "metadata": {},
   "source": [
    "**Types or orders**: Market Order (Is executed inmmediately against the best available price, it has a volume and the price parameter is determined with the current orderbook), Limit Order (is registered and sits on the orderbook for as long as other order is mateched or the participant cancells it, it has a volume value and the price value is specified by the market participant that posted it)\n"
   ]
  },
  {
   "cell_type": "markdown",
   "metadata": {},
   "source": [
    "**Matching Engine**: An algorithm that defines the ordering of limit orders, usually is a “FIFO” system, First In First Out, which means, two or more limit orders will be added to a “Time-based queue” and so the first order to arrive is the first one that is going to be matched against other contrary order in the book, or, when a market order arrives to the exchange."
   ]
  },
  {
   "cell_type": "markdown",
   "metadata": {},
   "source": [
    "- **Spread**: Difference of the prices in the best Ask and the best Bid \n",
    "- **Volume**: can be calculated for a sole level, for a collection of levels, for one or both sides.\n",
    "- **Midprice**: Its the average between the best Ask and the best Bid prices."
   ]
  },
  {
   "cell_type": "markdown",
   "metadata": {},
   "source": [
    "# Calculations"
   ]
  },
  {
   "cell_type": "markdown",
   "metadata": {},
   "source": [
    "## Book-trimming criteria (To define HOB)\n",
    "\n",
    "- Number of levels\n",
    "- Basis Points\n",
    "- Volume \n",
    "\n",
    "## Single OrderBook (using TOB, HOB and LOB)\n",
    "- Spread\n",
    "- Cumulative volume (For each side)\n",
    "- Total volume (Using both sides)\n",
    "- Ticksizes (all values, average of values, for each side and both)\n",
    "- Bid-Ask sides volume Imbalance\n",
    "- Weighted MidPrice = MidPrice * Orderbook Imbalance\n",
    "- Volume-Weighted Average Price\n",
    "\n",
    "## Two or more points in time for the same OrderBook\n",
    "- Update Frequency (time it takes to register, at least, a volume modification in at least one level, or, adding/droping a complete level)\n",
    "- Midprice % change (Micro return)\n",
    "- Time series of Single OrderBook metrics\n",
    "- Price calculations, Volume calculations, Ticksizes, etc.\n",
    "- Change of available volume (one side or both sides).\n",
    "\n",
    "## Time series of second order calculations from the same OrderBook.\n",
    "- Standard deviation of changes in midprice (volatility).\n",
    "- Change in available volume.\n",
    "- Change in average ticksize.\n",
    "- Change in activity per period of time (# of new books per unit of time).\n",
    "- Because a change in volume in existing levels.\n",
    "- A change of the # of existing levels.\n",
    "- A change of ticksize of existing levels.\n",
    "- Change in time it takes for a new orderbook to exist."
   ]
  },
  {
   "cell_type": "markdown",
   "metadata": {},
   "source": [
    "# Visualizations"
   ]
  }
 ],
 "metadata": {
  "language_info": {
   "name": "python"
  },
  "orig_nbformat": 4
 },
 "nbformat": 4,
 "nbformat_minor": 2
}
